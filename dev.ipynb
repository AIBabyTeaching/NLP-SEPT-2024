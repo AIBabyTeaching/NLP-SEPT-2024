{
 "cells": [
  {
   "cell_type": "markdown",
   "metadata": {},
   "source": [
    "About:\n",
    "\n",
    "- Codespace - Dockerenv\n",
    "- Dr. Hany Hanafy\n",
    "- Syllabus:\n",
    "    - NLP"
   ]
  },
  {
   "cell_type": "markdown",
   "metadata": {},
   "source": [
    "- Section 1:\n",
    "\n",
    "    - Introduction to NLP: \n",
    "        - What is NLP in Real world \n",
    "        - NLP tasks \n",
    "    - What is language? \n",
    "        - Building blocks of language (Phonemes, Morphemes & Lexemes, Syntax, and context) \n",
    "    \n",
    "    - Introduction to Approaches to NLP  \n",
    "        - Heuristics-Based NLP\n",
    "        - Machine Learning for NLP  \n",
    "        - Deep Learning for NLP \n",
    "    \n",
    "    - Lab:\n",
    "        - Coding practice - Env!? - Might include video\n",
    "        - Regex\n",
    "- Section 2:\n",
    "   - NLP pipeline in detail: \n",
    "        - Data acquisition\n",
    "        - Text cleaning  \n",
    "        - Pre-processing  \n",
    "- Section 3:\n",
    "    - NLP pipeline in details:\n",
    "        - Feature engineering  \n",
    "        - Modeling\n",
    "        - Evaluation  \n",
    "        - Monitoring and model updating"
   ]
  }
 ],
 "metadata": {
  "language_info": {
   "name": "python"
  }
 },
 "nbformat": 4,
 "nbformat_minor": 2
}
